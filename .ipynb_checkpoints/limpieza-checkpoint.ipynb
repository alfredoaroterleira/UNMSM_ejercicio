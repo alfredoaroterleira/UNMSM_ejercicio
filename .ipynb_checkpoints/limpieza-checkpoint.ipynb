{
 "cells": [
  {
   "cell_type": "markdown",
   "id": "dbafda98-ce76-40cd-a1d5-7065c1835104",
   "metadata": {},
   "source": [
    "# Ejercicio San Marcos\n",
    "\n",
    "## **Parte 1**"
   ]
  },
  {
   "cell_type": "code",
   "execution_count": 2,
   "id": "d729a943-057e-47f8-ac17-b543aa19f47c",
   "metadata": {},
   "outputs": [],
   "source": [
    "#Para la limpieza, primero subimos las dos datas\n",
    "\n",
    "import pandas as pd\n",
    "\n",
    "url1 = \"https://raw.githubusercontent.com/alfredoaroterleira/UNMSM_ejercicio/refs/heads/main/Education_expenditures.csv\"\n",
    "data_edu = pd.read_csv(url1)\n",
    "\n",
    "url2 = \"https://raw.githubusercontent.com/alfredoaroterleira/UNMSM_ejercicio/refs/heads/main/Public_debt.csv\"\n",
    "data_debt = pd.read_csv(url2)"
   ]
  },
  {
   "cell_type": "markdown",
   "id": "7c33ca80-5c8c-4ef9-991d-f69fcef18365",
   "metadata": {},
   "source": [
    "### Edu"
   ]
  },
  {
   "cell_type": "code",
   "execution_count": 4,
   "id": "9179673f-94a6-4ca8-83e6-9029e4c812fa",
   "metadata": {},
   "outputs": [
    {
     "data": {
      "text/html": [
       "<div>\n",
       "<style scoped>\n",
       "    .dataframe tbody tr th:only-of-type {\n",
       "        vertical-align: middle;\n",
       "    }\n",
       "\n",
       "    .dataframe tbody tr th {\n",
       "        vertical-align: top;\n",
       "    }\n",
       "\n",
       "    .dataframe thead th {\n",
       "        text-align: right;\n",
       "    }\n",
       "</style>\n",
       "<table border=\"1\" class=\"dataframe\">\n",
       "  <thead>\n",
       "    <tr style=\"text-align: right;\">\n",
       "      <th></th>\n",
       "      <th>name</th>\n",
       "      <th>slug</th>\n",
       "      <th>% of GDP</th>\n",
       "      <th>date_of_information</th>\n",
       "      <th>ranking</th>\n",
       "      <th>region</th>\n",
       "    </tr>\n",
       "  </thead>\n",
       "  <tbody>\n",
       "    <tr>\n",
       "      <th>0</th>\n",
       "      <td>Marshall Islands</td>\n",
       "      <td>marshall-islands</td>\n",
       "      <td>13.6</td>\n",
       "      <td>2020</td>\n",
       "      <td>1</td>\n",
       "      <td>Australia and Oceania</td>\n",
       "    </tr>\n",
       "    <tr>\n",
       "      <th>1</th>\n",
       "      <td>Solomon Islands</td>\n",
       "      <td>solomon-islands</td>\n",
       "      <td>12.8</td>\n",
       "      <td>2020</td>\n",
       "      <td>2</td>\n",
       "      <td>Australia and Oceania</td>\n",
       "    </tr>\n",
       "    <tr>\n",
       "      <th>2</th>\n",
       "      <td>Kiribati</td>\n",
       "      <td>kiribati</td>\n",
       "      <td>12.4</td>\n",
       "      <td>2019</td>\n",
       "      <td>3</td>\n",
       "      <td>Australia and Oceania</td>\n",
       "    </tr>\n",
       "    <tr>\n",
       "      <th>3</th>\n",
       "      <td>Greenland</td>\n",
       "      <td>greenland</td>\n",
       "      <td>10.2</td>\n",
       "      <td>2019</td>\n",
       "      <td>4</td>\n",
       "      <td>North America</td>\n",
       "    </tr>\n",
       "    <tr>\n",
       "      <th>4</th>\n",
       "      <td>Bolivia</td>\n",
       "      <td>bolivia</td>\n",
       "      <td>9.8</td>\n",
       "      <td>2020</td>\n",
       "      <td>5</td>\n",
       "      <td>South America</td>\n",
       "    </tr>\n",
       "  </tbody>\n",
       "</table>\n",
       "</div>"
      ],
      "text/plain": [
       "               name              slug  % of GDP  date_of_information  ranking  \\\n",
       "0  Marshall Islands  marshall-islands      13.6                 2020        1   \n",
       "1   Solomon Islands   solomon-islands      12.8                 2020        2   \n",
       "2          Kiribati          kiribati      12.4                 2019        3   \n",
       "3         Greenland         greenland      10.2                 2019        4   \n",
       "4           Bolivia           bolivia       9.8                 2020        5   \n",
       "\n",
       "                  region  \n",
       "0  Australia and Oceania  \n",
       "1  Australia and Oceania  \n",
       "2  Australia and Oceania  \n",
       "3          North America  \n",
       "4          South America  "
      ]
     },
     "execution_count": 4,
     "metadata": {},
     "output_type": "execute_result"
    }
   ],
   "source": [
    "data_edu.head()"
   ]
  },
  {
   "cell_type": "code",
   "execution_count": 5,
   "id": "b80a2fbe-23a1-423d-856a-4bbb6306ac9e",
   "metadata": {},
   "outputs": [
    {
     "data": {
      "text/plain": [
       "Index(['name', 'slug', '% of GDP', 'date_of_information', 'ranking', 'region'], dtype='object')"
      ]
     },
     "execution_count": 5,
     "metadata": {},
     "output_type": "execute_result"
    }
   ],
   "source": [
    "data_edu.columns"
   ]
  },
  {
   "cell_type": "code",
   "execution_count": 6,
   "id": "214c98b5-7eae-4904-88d7-43b29120f8db",
   "metadata": {},
   "outputs": [
    {
     "name": "stdout",
     "output_type": "stream",
     "text": [
      "               name  % of GDP                 region\n",
      "0  Marshall Islands      13.6  Australia and Oceania\n",
      "1   Solomon Islands      12.8  Australia and Oceania\n",
      "2          Kiribati      12.4  Australia and Oceania\n",
      "3         Greenland      10.2          North America\n",
      "4           Bolivia       9.8          South America\n"
     ]
    }
   ],
   "source": [
    "#solo me debo quedar con las variables: país, variable, región\n",
    "data_edu = data_edu[['name', '% of GDP', 'region']]\n",
    "print(data_edu.head())"
   ]
  },
  {
   "cell_type": "code",
   "execution_count": 7,
   "id": "6de75726-ca46-4609-80e1-df30838354aa",
   "metadata": {},
   "outputs": [
    {
     "data": {
      "text/plain": [
       "name         object\n",
       "% of GDP    float64\n",
       "region       object\n",
       "dtype: object"
      ]
     },
     "execution_count": 7,
     "metadata": {},
     "output_type": "execute_result"
    }
   ],
   "source": [
    "data_edu.dtypes"
   ]
  },
  {
   "cell_type": "code",
   "execution_count": 8,
   "id": "df3329d9-47ab-460f-810c-1cf1e9941573",
   "metadata": {},
   "outputs": [
    {
     "name": "stdout",
     "output_type": "stream",
     "text": [
      "               name  gdp_edu_percent                 region\n",
      "0  Marshall Islands             13.6  Australia and Oceania\n",
      "1   Solomon Islands             12.8  Australia and Oceania\n",
      "2          Kiribati             12.4  Australia and Oceania\n",
      "3         Greenland             10.2          North America\n",
      "4           Bolivia              9.8          South America\n"
     ]
    }
   ],
   "source": [
    "data_edu = data_edu.rename(columns={'% of GDP': 'gdp_edu_percent'})\n",
    "print(data_edu.head())"
   ]
  },
  {
   "cell_type": "markdown",
   "id": "a2fefbf9-9441-4f98-82f1-a0e55ee35e0f",
   "metadata": {},
   "source": [
    "### Debt"
   ]
  },
  {
   "cell_type": "code",
   "execution_count": 10,
   "id": "500aa77c-ef18-43ba-b643-7ab9c3875270",
   "metadata": {},
   "outputs": [
    {
     "data": {
      "text/html": [
       "<div>\n",
       "<style scoped>\n",
       "    .dataframe tbody tr th:only-of-type {\n",
       "        vertical-align: middle;\n",
       "    }\n",
       "\n",
       "    .dataframe tbody tr th {\n",
       "        vertical-align: top;\n",
       "    }\n",
       "\n",
       "    .dataframe thead th {\n",
       "        text-align: right;\n",
       "    }\n",
       "</style>\n",
       "<table border=\"1\" class=\"dataframe\">\n",
       "  <thead>\n",
       "    <tr style=\"text-align: right;\">\n",
       "      <th></th>\n",
       "      <th>name</th>\n",
       "      <th>slug</th>\n",
       "      <th>% of GDP</th>\n",
       "      <th>date_of_information</th>\n",
       "      <th>ranking</th>\n",
       "      <th>region</th>\n",
       "    </tr>\n",
       "  </thead>\n",
       "  <tbody>\n",
       "    <tr>\n",
       "      <th>0</th>\n",
       "      <td>Japan</td>\n",
       "      <td>japan</td>\n",
       "      <td>216.2</td>\n",
       "      <td>2022</td>\n",
       "      <td>1</td>\n",
       "      <td>East and Southeast Asia</td>\n",
       "    </tr>\n",
       "    <tr>\n",
       "      <th>1</th>\n",
       "      <td>Greece</td>\n",
       "      <td>greece</td>\n",
       "      <td>190.6</td>\n",
       "      <td>2023</td>\n",
       "      <td>2</td>\n",
       "      <td>Europe</td>\n",
       "    </tr>\n",
       "    <tr>\n",
       "      <th>2</th>\n",
       "      <td>Singapore</td>\n",
       "      <td>singapore</td>\n",
       "      <td>177.0</td>\n",
       "      <td>2023</td>\n",
       "      <td>3</td>\n",
       "      <td>East and Southeast Asia</td>\n",
       "    </tr>\n",
       "    <tr>\n",
       "      <th>3</th>\n",
       "      <td>Lebanon</td>\n",
       "      <td>lebanon</td>\n",
       "      <td>146.8</td>\n",
       "      <td>2017</td>\n",
       "      <td>4</td>\n",
       "      <td>Middle East</td>\n",
       "    </tr>\n",
       "    <tr>\n",
       "      <th>4</th>\n",
       "      <td>United Kingdom</td>\n",
       "      <td>united-kingdom</td>\n",
       "      <td>138.2</td>\n",
       "      <td>2023</td>\n",
       "      <td>5</td>\n",
       "      <td>Europe</td>\n",
       "    </tr>\n",
       "  </tbody>\n",
       "</table>\n",
       "</div>"
      ],
      "text/plain": [
       "             name            slug  % of GDP date_of_information  ranking  \\\n",
       "0           Japan           japan     216.2                2022        1   \n",
       "1          Greece          greece     190.6                2023        2   \n",
       "2       Singapore       singapore     177.0                2023        3   \n",
       "3         Lebanon         lebanon     146.8                2017        4   \n",
       "4  United Kingdom  united-kingdom     138.2                2023        5   \n",
       "\n",
       "                    region  \n",
       "0  East and Southeast Asia  \n",
       "1                   Europe  \n",
       "2  East and Southeast Asia  \n",
       "3              Middle East  \n",
       "4                   Europe  "
      ]
     },
     "execution_count": 10,
     "metadata": {},
     "output_type": "execute_result"
    }
   ],
   "source": [
    "data_debt.head()"
   ]
  },
  {
   "cell_type": "code",
   "execution_count": 11,
   "id": "1d64ff87-7fb4-48ec-9c15-5f849b122252",
   "metadata": {},
   "outputs": [
    {
     "data": {
      "text/plain": [
       "Index(['name', 'slug', '% of GDP', 'date_of_information', 'ranking', 'region'], dtype='object')"
      ]
     },
     "execution_count": 11,
     "metadata": {},
     "output_type": "execute_result"
    }
   ],
   "source": [
    "data_debt.columns"
   ]
  },
  {
   "cell_type": "code",
   "execution_count": 12,
   "id": "f0b42621-449c-40c2-b53b-60ea799fb516",
   "metadata": {},
   "outputs": [
    {
     "name": "stdout",
     "output_type": "stream",
     "text": [
      "             name  % of GDP                   region\n",
      "0           Japan     216.2  East and Southeast Asia\n",
      "1          Greece     190.6                   Europe\n",
      "2       Singapore     177.0  East and Southeast Asia\n",
      "3         Lebanon     146.8              Middle East\n",
      "4  United Kingdom     138.2                   Europe\n"
     ]
    }
   ],
   "source": [
    "#solo me debo quedar con las variables: país, variable, región\n",
    "data_debt = data_debt[['name', '% of GDP', 'region']]\n",
    "print(data_debt.head())"
   ]
  },
  {
   "cell_type": "code",
   "execution_count": 13,
   "id": "ddc43e97-ad28-4ada-86f5-f374e104f3d5",
   "metadata": {},
   "outputs": [
    {
     "data": {
      "text/plain": [
       "name         object\n",
       "% of GDP    float64\n",
       "region       object\n",
       "dtype: object"
      ]
     },
     "execution_count": 13,
     "metadata": {},
     "output_type": "execute_result"
    }
   ],
   "source": [
    "data_debt.dtypes"
   ]
  },
  {
   "cell_type": "code",
   "execution_count": 14,
   "id": "98416043-30e7-4e30-9b2c-7721821fa6b3",
   "metadata": {},
   "outputs": [
    {
     "name": "stdout",
     "output_type": "stream",
     "text": [
      "             name  gdp_debt_percent                   region\n",
      "0           Japan             216.2  East and Southeast Asia\n",
      "1          Greece             190.6                   Europe\n",
      "2       Singapore             177.0  East and Southeast Asia\n",
      "3         Lebanon             146.8              Middle East\n",
      "4  United Kingdom             138.2                   Europe\n"
     ]
    }
   ],
   "source": [
    "data_debt = data_debt.rename(columns={'% of GDP': 'gdp_debt_percent'})\n",
    "print(data_debt.head())"
   ]
  },
  {
   "cell_type": "markdown",
   "id": "2e4d9a3b-7e54-475c-a1ca-ddc3b35b6298",
   "metadata": {},
   "source": [
    "### Merge de ambas datas"
   ]
  },
  {
   "cell_type": "code",
   "execution_count": 16,
   "id": "be54a159-d8e2-4832-ae42-707b357f010c",
   "metadata": {},
   "outputs": [
    {
     "name": "stdout",
     "output_type": "stream",
     "text": [
      "               name  gdp_edu_percent                 region  gdp_debt_percent\n",
      "0  Marshall Islands             13.6  Australia and Oceania              41.6\n",
      "1   Solomon Islands             12.8  Australia and Oceania              15.4\n",
      "2          Kiribati             12.4  Australia and Oceania              26.3\n",
      "3         Greenland             10.2          North America              13.0\n",
      "4           Bolivia              9.8          South America              49.0\n"
     ]
    }
   ],
   "source": [
    "data_final1 = pd.merge(data_edu, data_debt, on=['name', 'region'], how='inner')\n",
    "print(data_final1.head())"
   ]
  },
  {
   "cell_type": "markdown",
   "id": "1b39f15d-c1bb-4f89-8c69-5127e4bfeed8",
   "metadata": {},
   "source": [
    "### Descargamos la data"
   ]
  },
  {
   "cell_type": "code",
   "execution_count": 18,
   "id": "bac0e436-33f4-4d59-9a1c-b92e039938f0",
   "metadata": {},
   "outputs": [],
   "source": [
    "data_final1.to_csv('data_part1.csv', index=False)"
   ]
  },
  {
   "cell_type": "markdown",
   "id": "366c3aae-b505-43c8-a6fe-18df19736c5d",
   "metadata": {},
   "source": [
    "## **Parte 2**"
   ]
  },
  {
   "cell_type": "markdown",
   "id": "42068fa6-e0d7-4756-b881-76477d744217",
   "metadata": {},
   "source": [
    "### Leemos tabla 1 de wikipedia"
   ]
  },
  {
   "cell_type": "code",
   "execution_count": 21,
   "id": "1160f563-fda4-441a-b7f2-2a53251720b3",
   "metadata": {},
   "outputs": [
    {
     "name": "stdout",
     "output_type": "stream",
     "text": [
      "  Departamento Castillo Fujimori   López  De Soto Lescano Mendoza   Acuña  \\\n",
      "0     Amazonas   34 464   17 815   8 274    4 433  12 703   8 894  11 531   \n",
      "1       Ancash  110 620   67 394  42 312   34 562  38 911  39 786  44 047   \n",
      "2     Apurimac   88 812   10 879   7 768    6 531  15 649  15 368   2 154   \n",
      "3     Arequipa  256 224   40 216  71 053  148 793  88 708  55 269  18 790   \n",
      "4     Ayacucho  130 224   24 506  11 490    8 995  20 315  24 506   4 891   \n",
      "\n",
      "     Otros En blanco   Nulos Participación  Electores  \n",
      "0   54 510    37 376  14 482       184 057    306 186  \n",
      "1  177 986    92 664  49 401       613 850    886 265  \n",
      "2   36 547    41 563  11 511       219 260    316 000  \n",
      "3  190 717    67 914  38 618       902 243  1 145 268  \n",
      "4   55 020    57 804  16 467       324 821    473 282  \n"
     ]
    }
   ],
   "source": [
    "import requests\n",
    "from lxml import html\n",
    "import pandas as pd\n",
    "\n",
    "url = \"https://es.wikipedia.org/wiki/Elecciones_generales_de_Per%C3%BA_de_2021\"\n",
    "\n",
    "# Descargar contenido\n",
    "response = requests.get(url)\n",
    "response.raise_for_status()\n",
    "\n",
    "# Parsear HTML\n",
    "doc = html.fromstring(response.content)\n",
    "\n",
    "# Seleccionar la tabla con XPath (apunta al <table>, no al <tbody>)\n",
    "table = doc.xpath('//*[@id=\"mw-content-text\"]/div[1]/table[16]')[0]\n",
    "\n",
    "# Convertir la tabla a string HTML\n",
    "table_html = html.tostring(table)\n",
    "\n",
    "# Usar pandas para leer esa tabla HTML\n",
    "votos = pd.read_html(table_html)[0]\n",
    "\n",
    "print(votos.head())\n"
   ]
  },
  {
   "cell_type": "code",
   "execution_count": 22,
   "id": "bda6a197-aa86-47ca-9e0a-c83cb7eff318",
   "metadata": {},
   "outputs": [
    {
     "data": {
      "text/plain": [
       "Index(['Departamento', 'Castillo', 'Fujimori', 'López', 'De Soto', 'Lescano',\n",
       "       'Mendoza', 'Acuña', 'Otros', 'En blanco', 'Nulos', 'Participación',\n",
       "       'Electores'],\n",
       "      dtype='object')"
      ]
     },
     "execution_count": 22,
     "metadata": {},
     "output_type": "execute_result"
    }
   ],
   "source": [
    "votos.columns"
   ]
  },
  {
   "cell_type": "code",
   "execution_count": 23,
   "id": "b68abf13-118a-4516-92ad-ab6d03a111cf",
   "metadata": {},
   "outputs": [
    {
     "name": "stdout",
     "output_type": "stream",
     "text": [
      "  DEPARTAMENTO Castillo Fujimori   Lopez  De_Soto Lescano Mendoza   Acuña  \\\n",
      "0     Amazonas   34 464   17 815   8 274    4 433  12 703   8 894  11 531   \n",
      "1       Ancash  110 620   67 394  42 312   34 562  38 911  39 786  44 047   \n",
      "2     Apurimac   88 812   10 879   7 768    6 531  15 649  15 368   2 154   \n",
      "3     Arequipa  256 224   40 216  71 053  148 793  88 708  55 269  18 790   \n",
      "4     Ayacucho  130 224   24 506  11 490    8 995  20 315  24 506   4 891   \n",
      "\n",
      "     Otros  blanco   Nulos Participacion  Electores  \n",
      "0   54 510  37 376  14 482       184 057    306 186  \n",
      "1  177 986  92 664  49 401       613 850    886 265  \n",
      "2   36 547  41 563  11 511       219 260    316 000  \n",
      "3  190 717  67 914  38 618       902 243  1 145 268  \n",
      "4   55 020  57 804  16 467       324 821    473 282  \n"
     ]
    }
   ],
   "source": [
    "votos = votos.rename(columns={\"Departamento\": \"DEPARTAMENTO\",\n",
    "                              \"López\": 'Lopez',\n",
    "                              \"De\\xa0Soto\": \"De_Soto\",\n",
    "                              \"En blanco\": \"blanco\",\n",
    "                             \"Participación\": \"Participacion\"})\n",
    "\n",
    "print(votos.head())"
   ]
  },
  {
   "cell_type": "code",
   "execution_count": 24,
   "id": "94006984-aa5b-455a-b5ab-a7a921c445ff",
   "metadata": {},
   "outputs": [
    {
     "data": {
      "text/plain": [
       "DEPARTAMENTO     object\n",
       "Castillo         object\n",
       "Fujimori         object\n",
       "Lopez            object\n",
       "De_Soto          object\n",
       "Lescano          object\n",
       "Mendoza          object\n",
       "Acuña            object\n",
       "Otros            object\n",
       "blanco           object\n",
       "Nulos            object\n",
       "Participacion    object\n",
       "Electores        object\n",
       "dtype: object"
      ]
     },
     "execution_count": 24,
     "metadata": {},
     "output_type": "execute_result"
    }
   ],
   "source": [
    "votos.dtypes"
   ]
  },
  {
   "cell_type": "code",
   "execution_count": 25,
   "id": "ae2d62e6-dda2-40bf-a404-e04b09613b91",
   "metadata": {},
   "outputs": [
    {
     "name": "stdout",
     "output_type": "stream",
     "text": [
      "Requirement already satisfied: unidecode in c:\\users\\usuario\\anaconda3\\lib\\site-packages (1.2.0)\n",
      "['AMAZONAS' 'ANCASH' 'APURIMAC' 'AREQUIPA' 'AYACUCHO' 'CAJAMARCA' 'CALLAO'\n",
      " 'CUSCO' 'HUANCAVELICA' 'HUANUCO' 'ICA' 'JUNIN' 'LA LIBERTAD' 'LAMBAYEQUE'\n",
      " 'LIMA' 'LORETO' 'MADRE DE DIOS' 'MOQUEGUA' 'PASCO' 'PIURA' 'PUNO'\n",
      " 'SAN MARTIN' 'TACNA' 'TUMBES' 'UCAYALI' 'VOTO EXTRANJERO']\n"
     ]
    }
   ],
   "source": [
    "!pip install unidecode\n",
    "import unidecode  #quitar tildes\n",
    "\n",
    "votos['DEPARTAMENTO'] = votos['DEPARTAMENTO'].str.upper()\n",
    "\n",
    "# eliminamos tildes\n",
    "votos['DEPARTAMENTO'] = votos['DEPARTAMENTO'].apply(unidecode.unidecode)\n",
    "\n",
    "print(votos['DEPARTAMENTO'].unique())"
   ]
  },
  {
   "cell_type": "code",
   "execution_count": 26,
   "id": "095b611c-a152-426b-916f-d13c0919d182",
   "metadata": {},
   "outputs": [
    {
     "data": {
      "text/plain": [
       "Index(['DEPARTAMENTO', 'Castillo', 'Fujimori', 'Lopez', 'De_Soto', 'Lescano',\n",
       "       'Mendoza', 'Acuña', 'Otros', 'blanco', 'Nulos', 'Participacion',\n",
       "       'Electores'],\n",
       "      dtype='object')"
      ]
     },
     "execution_count": 26,
     "metadata": {},
     "output_type": "execute_result"
    }
   ],
   "source": [
    "# convertimos a numérica\n",
    "\n",
    "votos.columns"
   ]
  },
  {
   "cell_type": "code",
   "execution_count": 27,
   "id": "a14da639-fb64-4492-b1a2-e2b33fd4d819",
   "metadata": {},
   "outputs": [
    {
     "name": "stdout",
     "output_type": "stream",
     "text": [
      "['DEPARTAMENTO', 'Castillo', 'Fujimori', 'Lopez', 'De_Soto', 'Lescano', 'Mendoza', 'Acuña', 'Otros', 'blanco', 'Nulos', 'Participacion', 'Electores']\n"
     ]
    }
   ],
   "source": [
    "#mejor este código\n",
    "print(votos.columns.tolist())"
   ]
  },
  {
   "cell_type": "code",
   "execution_count": 28,
   "id": "e704d155-b6c1-474e-adcf-971c22867fd1",
   "metadata": {},
   "outputs": [],
   "source": [
    "# Lista con las columnas que quieres convertir\n",
    "cols_a_convertir = ['Castillo', 'Fujimori', 'Lopez', 'De_Soto', 'Lescano',\n",
    "       'Mendoza', 'Acuña', 'Otros', 'blanco', 'Nulos', 'Participacion',\n",
    "       'Electores']  # reemplaza con tus columnas\n",
    "\n",
    "# Convertir esas columnas a numéricas con manejo de errores (los no convertibles se vuelven NaN)\n",
    "for col in cols_a_convertir:\n",
    "    votos[col] = votos[col].astype(str).str.replace(' ', '')  # quita espacios en el texto\n",
    "    votos[col] = pd.to_numeric(votos[col], errors='coerce')"
   ]
  },
  {
   "cell_type": "code",
   "execution_count": 29,
   "id": "5d1b1772-ae79-48d4-b9b9-9b289b3b837c",
   "metadata": {},
   "outputs": [
    {
     "data": {
      "text/html": [
       "<div>\n",
       "<style scoped>\n",
       "    .dataframe tbody tr th:only-of-type {\n",
       "        vertical-align: middle;\n",
       "    }\n",
       "\n",
       "    .dataframe tbody tr th {\n",
       "        vertical-align: top;\n",
       "    }\n",
       "\n",
       "    .dataframe thead th {\n",
       "        text-align: right;\n",
       "    }\n",
       "</style>\n",
       "<table border=\"1\" class=\"dataframe\">\n",
       "  <thead>\n",
       "    <tr style=\"text-align: right;\">\n",
       "      <th></th>\n",
       "      <th>DEPARTAMENTO</th>\n",
       "      <th>Castillo</th>\n",
       "      <th>Fujimori</th>\n",
       "      <th>Lopez</th>\n",
       "      <th>De_Soto</th>\n",
       "      <th>Lescano</th>\n",
       "      <th>Mendoza</th>\n",
       "      <th>Acuña</th>\n",
       "      <th>Otros</th>\n",
       "      <th>blanco</th>\n",
       "      <th>Nulos</th>\n",
       "      <th>Participacion</th>\n",
       "      <th>Electores</th>\n",
       "    </tr>\n",
       "  </thead>\n",
       "  <tbody>\n",
       "    <tr>\n",
       "      <th>0</th>\n",
       "      <td>AMAZONAS</td>\n",
       "      <td>34464.0</td>\n",
       "      <td>17815.0</td>\n",
       "      <td>8274.0</td>\n",
       "      <td>4433.0</td>\n",
       "      <td>12703.0</td>\n",
       "      <td>8894.0</td>\n",
       "      <td>11531.0</td>\n",
       "      <td>54510.0</td>\n",
       "      <td>37376.0</td>\n",
       "      <td>14482.0</td>\n",
       "      <td>184057.0</td>\n",
       "      <td>306186.0</td>\n",
       "    </tr>\n",
       "    <tr>\n",
       "      <th>1</th>\n",
       "      <td>ANCASH</td>\n",
       "      <td>110620.0</td>\n",
       "      <td>67394.0</td>\n",
       "      <td>42312.0</td>\n",
       "      <td>34562.0</td>\n",
       "      <td>38911.0</td>\n",
       "      <td>39786.0</td>\n",
       "      <td>44047.0</td>\n",
       "      <td>177986.0</td>\n",
       "      <td>92664.0</td>\n",
       "      <td>49401.0</td>\n",
       "      <td>613850.0</td>\n",
       "      <td>886265.0</td>\n",
       "    </tr>\n",
       "    <tr>\n",
       "      <th>2</th>\n",
       "      <td>APURIMAC</td>\n",
       "      <td>88812.0</td>\n",
       "      <td>10879.0</td>\n",
       "      <td>7768.0</td>\n",
       "      <td>6531.0</td>\n",
       "      <td>15649.0</td>\n",
       "      <td>15368.0</td>\n",
       "      <td>2154.0</td>\n",
       "      <td>36547.0</td>\n",
       "      <td>41563.0</td>\n",
       "      <td>11511.0</td>\n",
       "      <td>219260.0</td>\n",
       "      <td>316000.0</td>\n",
       "    </tr>\n",
       "    <tr>\n",
       "      <th>3</th>\n",
       "      <td>AREQUIPA</td>\n",
       "      <td>256224.0</td>\n",
       "      <td>40216.0</td>\n",
       "      <td>71053.0</td>\n",
       "      <td>148793.0</td>\n",
       "      <td>88708.0</td>\n",
       "      <td>55269.0</td>\n",
       "      <td>18790.0</td>\n",
       "      <td>190717.0</td>\n",
       "      <td>67914.0</td>\n",
       "      <td>38618.0</td>\n",
       "      <td>902243.0</td>\n",
       "      <td>1145268.0</td>\n",
       "    </tr>\n",
       "    <tr>\n",
       "      <th>4</th>\n",
       "      <td>AYACUCHO</td>\n",
       "      <td>130224.0</td>\n",
       "      <td>24506.0</td>\n",
       "      <td>11490.0</td>\n",
       "      <td>8995.0</td>\n",
       "      <td>20315.0</td>\n",
       "      <td>24506.0</td>\n",
       "      <td>4891.0</td>\n",
       "      <td>55020.0</td>\n",
       "      <td>57804.0</td>\n",
       "      <td>16467.0</td>\n",
       "      <td>324821.0</td>\n",
       "      <td>473282.0</td>\n",
       "    </tr>\n",
       "  </tbody>\n",
       "</table>\n",
       "</div>"
      ],
      "text/plain": [
       "  DEPARTAMENTO  Castillo  Fujimori    Lopez   De_Soto  Lescano  Mendoza  \\\n",
       "0     AMAZONAS   34464.0   17815.0   8274.0    4433.0  12703.0   8894.0   \n",
       "1       ANCASH  110620.0   67394.0  42312.0   34562.0  38911.0  39786.0   \n",
       "2     APURIMAC   88812.0   10879.0   7768.0    6531.0  15649.0  15368.0   \n",
       "3     AREQUIPA  256224.0   40216.0  71053.0  148793.0  88708.0  55269.0   \n",
       "4     AYACUCHO  130224.0   24506.0  11490.0    8995.0  20315.0  24506.0   \n",
       "\n",
       "     Acuña     Otros   blanco    Nulos  Participacion  Electores  \n",
       "0  11531.0   54510.0  37376.0  14482.0       184057.0   306186.0  \n",
       "1  44047.0  177986.0  92664.0  49401.0       613850.0   886265.0  \n",
       "2   2154.0   36547.0  41563.0  11511.0       219260.0   316000.0  \n",
       "3  18790.0  190717.0  67914.0  38618.0       902243.0  1145268.0  \n",
       "4   4891.0   55020.0  57804.0  16467.0       324821.0   473282.0  "
      ]
     },
     "execution_count": 29,
     "metadata": {},
     "output_type": "execute_result"
    }
   ],
   "source": [
    "votos.head()"
   ]
  },
  {
   "cell_type": "code",
   "execution_count": 30,
   "id": "22ab9b6e-423d-4065-a0aa-c88410f66ed3",
   "metadata": {},
   "outputs": [
    {
     "name": "stdout",
     "output_type": "stream",
     "text": [
      "  DEPARTAMENTO  Castillo  Fujimori    Lopez   De_Soto  Lescano  Mendoza  \\\n",
      "0     AMAZONAS   34464.0   17815.0   8274.0    4433.0  12703.0   8894.0   \n",
      "1       ANCASH  110620.0   67394.0  42312.0   34562.0  38911.0  39786.0   \n",
      "2     APURIMAC   88812.0   10879.0   7768.0    6531.0  15649.0  15368.0   \n",
      "3     AREQUIPA  256224.0   40216.0  71053.0  148793.0  88708.0  55269.0   \n",
      "4     AYACUCHO  130224.0   24506.0  11490.0    8995.0  20315.0  24506.0   \n",
      "\n",
      "     Acuña     Otros   blanco    Nulos  Participacion  Electores  \n",
      "0  11531.0   54510.0  37376.0  14482.0       184057.0   306186.0  \n",
      "1  44047.0  177986.0  92664.0  49401.0       613850.0   886265.0  \n",
      "2   2154.0   36547.0  41563.0  11511.0       219260.0   316000.0  \n",
      "3  18790.0  190717.0  67914.0  38618.0       902243.0  1145268.0  \n",
      "4   4891.0   55020.0  57804.0  16467.0       324821.0   473282.0  \n"
     ]
    }
   ],
   "source": [
    "#creo la fila: LIMA-CALLAO en DEPARTAMENTO por la otra data\n",
    "lima_callao_sum = votos[votos['DEPARTAMENTO'].isin(['LIMA', 'CALLAO'])].drop(columns=['DEPARTAMENTO']).sum()\n",
    "\n",
    "# Crea una nueva fila para LIMA-CALLAO\n",
    "lima_callao_row = pd.DataFrame([['LIMA-CALLAO'] + lima_callao_sum.tolist()], columns=votos.columns)\n",
    "\n",
    "# Filtra las filas que no son Lima ni Callao\n",
    "df_otros = votos[~votos['DEPARTAMENTO'].isin(['LIMA', 'CALLAO'])]\n",
    "\n",
    "# Junta todo\n",
    "votos= pd.concat([df_otros, lima_callao_row], ignore_index=True)\n",
    "\n",
    "print(votos.head())"
   ]
  },
  {
   "cell_type": "code",
   "execution_count": 31,
   "id": "d33c0086-e87b-4f88-b017-6b6c5bd6d925",
   "metadata": {},
   "outputs": [
    {
     "name": "stdout",
     "output_type": "stream",
     "text": [
      "  DEPARTAMENTO  Castillo  Fujimori    Lopez   De_Soto  Lescano  Mendoza  \\\n",
      "0     AMAZONAS   34464.0   17815.0   8274.0    4433.0  12703.0   8894.0   \n",
      "1       ANCASH  110620.0   67394.0  42312.0   34562.0  38911.0  39786.0   \n",
      "2     APURIMAC   88812.0   10879.0   7768.0    6531.0  15649.0  15368.0   \n",
      "3     AREQUIPA  256224.0   40216.0  71053.0  148793.0  88708.0  55269.0   \n",
      "4     AYACUCHO  130224.0   24506.0  11490.0    8995.0  20315.0  24506.0   \n",
      "\n",
      "     Acuña     Otros   blanco    Nulos  Participacion  Electores  \\\n",
      "0  11531.0   54510.0  37376.0  14482.0       184057.0   306186.0   \n",
      "1  44047.0  177986.0  92664.0  49401.0       613850.0   886265.0   \n",
      "2   2154.0   36547.0  41563.0  11511.0       219260.0   316000.0   \n",
      "3  18790.0  190717.0  67914.0  38618.0       902243.0  1145268.0   \n",
      "4   4891.0   55020.0  57804.0  16467.0       324821.0   473282.0   \n",
      "\n",
      "   prop_vot_cast  \n",
      "0       0.112559  \n",
      "1       0.124816  \n",
      "2       0.281051  \n",
      "3       0.223724  \n",
      "4       0.275151  \n"
     ]
    }
   ],
   "source": [
    "votos['prop_vot_cast'] = votos['Castillo'] / votos['Electores']\n",
    "print(votos.head())"
   ]
  },
  {
   "cell_type": "code",
   "execution_count": 32,
   "id": "fff442e1-f403-4deb-92e6-2ea3d6d83e02",
   "metadata": {},
   "outputs": [
    {
     "name": "stdout",
     "output_type": "stream",
     "text": [
      "  DEPARTAMENTO  Castillo  prop_vot_cast\n",
      "0     AMAZONAS   34464.0       0.112559\n",
      "1       ANCASH  110620.0       0.124816\n",
      "2     APURIMAC   88812.0       0.281051\n",
      "3     AREQUIPA  256224.0       0.223724\n",
      "4     AYACUCHO  130224.0       0.275151\n"
     ]
    }
   ],
   "source": [
    "#me quedo con la data importante\n",
    "votos = votos[['DEPARTAMENTO', 'Castillo', 'prop_vot_cast']]\n",
    "print(votos.head())"
   ]
  },
  {
   "cell_type": "code",
   "execution_count": 33,
   "id": "24f99119-5060-4008-a4aa-1a7c78688dc9",
   "metadata": {},
   "outputs": [
    {
     "name": "stdout",
     "output_type": "stream",
     "text": [
      "['AMAZONAS' 'ANCASH' 'APURIMAC' 'AREQUIPA' 'AYACUCHO' 'CAJAMARCA' 'CUSCO'\n",
      " 'HUANCAVELICA' 'HUANUCO' 'ICA' 'JUNIN' 'LA LIBERTAD' 'LAMBAYEQUE'\n",
      " 'LORETO' 'MADRE DE DIOS' 'MOQUEGUA' 'PASCO' 'PIURA' 'PUNO' 'SAN MARTIN'\n",
      " 'TACNA' 'TUMBES' 'UCAYALI' 'VOTO EXTRANJERO' 'LIMA-CALLAO']\n"
     ]
    }
   ],
   "source": [
    "print(votos['DEPARTAMENTO'].unique())"
   ]
  },
  {
   "cell_type": "markdown",
   "id": "0d185dde-2275-4da2-aa71-8f8417a4a046",
   "metadata": {},
   "source": [
    "### Leemos la tabla 2 de wikipedia"
   ]
  },
  {
   "cell_type": "code",
   "execution_count": 35,
   "id": "950a0939-dc2d-4e2c-9b59-f803d88166a2",
   "metadata": {},
   "outputs": [
    {
     "name": "stdout",
     "output_type": "stream",
     "text": [
      "                    #        Departamento             Pobreza  \\\n",
      "         Pobreza Baja        Pobreza Baja        Pobreza Baja   \n",
      "0                  1°                 Ica               5.1 %   \n",
      "1  Pobreza Medio Baja  Pobreza Medio Baja  Pobreza Medio Baja   \n",
      "2                  2°            Moquegua              12.9 %   \n",
      "3                  3°            Arequipa              13.6 %   \n",
      "4                  4°       Madre de Dios              13.7 %   \n",
      "\n",
      "      Pobreza Extrema                 Año  \n",
      "         Pobreza Baja        Pobreza Baja  \n",
      "0                 0 %                2022  \n",
      "1  Pobreza Medio Baja  Pobreza Medio Baja  \n",
      "2               3.3 %                2022  \n",
      "3               2.3 %                2022  \n",
      "4               1.6 %                2022  \n"
     ]
    }
   ],
   "source": [
    "# leemos la tabla\n",
    "import requests\n",
    "from lxml import html\n",
    "import pandas as pd\n",
    "\n",
    "# URL de la página de pobreza en Perú\n",
    "url = \"https://es.wikipedia.org/wiki/Pobreza_en_el_Per%C3%BA\"\n",
    "\n",
    "# Descargar contenido\n",
    "response = requests.get(url)\n",
    "response.raise_for_status()\n",
    "\n",
    "# Parsear HTML\n",
    "doc = html.fromstring(response.content)\n",
    "\n",
    "# Seleccionar la tabla con XPath (tabla 1)\n",
    "table = doc.xpath('//*[@id=\"mw-content-text\"]/div[1]/table[1]')[0]\n",
    "\n",
    "# Convertir la tabla a string HTML\n",
    "table_html = html.tostring(table)\n",
    "\n",
    "# Leer la tabla con pandas\n",
    "pobreza = pd.read_html(table_html)[0]\n",
    "\n",
    "# Mostrar las primeras filas\n",
    "print(pobreza.head())\n"
   ]
  },
  {
   "cell_type": "code",
   "execution_count": 36,
   "id": "6a785fbf-a0eb-4d32-ae30-9c771f0506ad",
   "metadata": {},
   "outputs": [
    {
     "data": {
      "text/html": [
       "<div>\n",
       "<style scoped>\n",
       "    .dataframe tbody tr th:only-of-type {\n",
       "        vertical-align: middle;\n",
       "    }\n",
       "\n",
       "    .dataframe tbody tr th {\n",
       "        vertical-align: top;\n",
       "    }\n",
       "\n",
       "    .dataframe thead tr th {\n",
       "        text-align: left;\n",
       "    }\n",
       "</style>\n",
       "<table border=\"1\" class=\"dataframe\">\n",
       "  <thead>\n",
       "    <tr>\n",
       "      <th></th>\n",
       "      <th>#</th>\n",
       "      <th>Departamento</th>\n",
       "      <th>Pobreza</th>\n",
       "      <th>Pobreza Extrema</th>\n",
       "      <th>Año</th>\n",
       "    </tr>\n",
       "    <tr>\n",
       "      <th></th>\n",
       "      <th>Pobreza Baja</th>\n",
       "      <th>Pobreza Baja</th>\n",
       "      <th>Pobreza Baja</th>\n",
       "      <th>Pobreza Baja</th>\n",
       "      <th>Pobreza Baja</th>\n",
       "    </tr>\n",
       "  </thead>\n",
       "  <tbody>\n",
       "    <tr>\n",
       "      <th>0</th>\n",
       "      <td>1°</td>\n",
       "      <td>Ica</td>\n",
       "      <td>5.1 %</td>\n",
       "      <td>0 %</td>\n",
       "      <td>2022</td>\n",
       "    </tr>\n",
       "    <tr>\n",
       "      <th>1</th>\n",
       "      <td>Pobreza Medio Baja</td>\n",
       "      <td>Pobreza Medio Baja</td>\n",
       "      <td>Pobreza Medio Baja</td>\n",
       "      <td>Pobreza Medio Baja</td>\n",
       "      <td>Pobreza Medio Baja</td>\n",
       "    </tr>\n",
       "    <tr>\n",
       "      <th>2</th>\n",
       "      <td>2°</td>\n",
       "      <td>Moquegua</td>\n",
       "      <td>12.9 %</td>\n",
       "      <td>3.3 %</td>\n",
       "      <td>2022</td>\n",
       "    </tr>\n",
       "    <tr>\n",
       "      <th>3</th>\n",
       "      <td>3°</td>\n",
       "      <td>Arequipa</td>\n",
       "      <td>13.6 %</td>\n",
       "      <td>2.3 %</td>\n",
       "      <td>2022</td>\n",
       "    </tr>\n",
       "    <tr>\n",
       "      <th>4</th>\n",
       "      <td>4°</td>\n",
       "      <td>Madre de Dios</td>\n",
       "      <td>13.7 %</td>\n",
       "      <td>1.6 %</td>\n",
       "      <td>2022</td>\n",
       "    </tr>\n",
       "  </tbody>\n",
       "</table>\n",
       "</div>"
      ],
      "text/plain": [
       "                    #        Departamento             Pobreza  \\\n",
       "         Pobreza Baja        Pobreza Baja        Pobreza Baja   \n",
       "0                  1°                 Ica               5.1 %   \n",
       "1  Pobreza Medio Baja  Pobreza Medio Baja  Pobreza Medio Baja   \n",
       "2                  2°            Moquegua              12.9 %   \n",
       "3                  3°            Arequipa              13.6 %   \n",
       "4                  4°       Madre de Dios              13.7 %   \n",
       "\n",
       "      Pobreza Extrema                 Año  \n",
       "         Pobreza Baja        Pobreza Baja  \n",
       "0                 0 %                2022  \n",
       "1  Pobreza Medio Baja  Pobreza Medio Baja  \n",
       "2               3.3 %                2022  \n",
       "3               2.3 %                2022  \n",
       "4               1.6 %                2022  "
      ]
     },
     "execution_count": 36,
     "metadata": {},
     "output_type": "execute_result"
    }
   ],
   "source": [
    "pobreza.head()"
   ]
  },
  {
   "cell_type": "code",
   "execution_count": 37,
   "id": "c82dbe15-0f5b-41ab-95d8-2f113c429698",
   "metadata": {},
   "outputs": [
    {
     "data": {
      "text/plain": [
       "MultiIndex([(              '#', 'Pobreza Baja'),\n",
       "            (   'Departamento', 'Pobreza Baja'),\n",
       "            (        'Pobreza', 'Pobreza Baja'),\n",
       "            ('Pobreza Extrema', 'Pobreza Baja'),\n",
       "            (            'Año', 'Pobreza Baja')],\n",
       "           )"
      ]
     },
     "execution_count": 37,
     "metadata": {},
     "output_type": "execute_result"
    }
   ],
   "source": [
    "pobreza.columns"
   ]
  },
  {
   "cell_type": "code",
   "execution_count": 38,
   "id": "d9e175a1-1f5f-4f4b-b41c-a597b8ec8627",
   "metadata": {},
   "outputs": [
    {
     "name": "stdout",
     "output_type": "stream",
     "text": [
      "         Departamento             Pobreza     Pobreza Extrema\n",
      "         Pobreza Baja        Pobreza Baja        Pobreza Baja\n",
      "0                 Ica               5.1 %                 0 %\n",
      "1  Pobreza Medio Baja  Pobreza Medio Baja  Pobreza Medio Baja\n",
      "2            Moquegua              12.9 %               3.3 %\n",
      "3            Arequipa              13.6 %               2.3 %\n",
      "4       Madre de Dios              13.7 %               1.6 %\n"
     ]
    }
   ],
   "source": [
    "pobreza = pobreza[[('Departamento', 'Pobreza Baja'),\n",
    "                            ('Pobreza', 'Pobreza Baja'),\n",
    "                            ('Pobreza Extrema', 'Pobreza Baja')]]\n",
    "\n",
    "print(pobreza.head())"
   ]
  },
  {
   "cell_type": "code",
   "execution_count": 39,
   "id": "c66edf3a-13db-4a78-81a1-b2f07acb4e7a",
   "metadata": {},
   "outputs": [
    {
     "name": "stdout",
     "output_type": "stream",
     "text": [
      "         DEPARTAMENTO             Pobreza     Pobreza Extrema\n",
      "0                 Ica               5.1 %                 0 %\n",
      "1  Pobreza Medio Baja  Pobreza Medio Baja  Pobreza Medio Baja\n",
      "2            Moquegua              12.9 %               3.3 %\n",
      "3            Arequipa              13.6 %               2.3 %\n",
      "4       Madre de Dios              13.7 %               1.6 %\n"
     ]
    }
   ],
   "source": [
    "# Renombrar las columnas para quitar el segundo nivel\n",
    "pobreza.columns = ['DEPARTAMENTO', 'Pobreza', 'Pobreza Extrema']\n",
    "print(pobreza.head())"
   ]
  },
  {
   "cell_type": "code",
   "execution_count": 40,
   "id": "ce0bb893-b0a5-48b8-ab6a-fb6538b6f74c",
   "metadata": {},
   "outputs": [
    {
     "data": {
      "text/plain": [
       "DEPARTAMENTO       object\n",
       "Pobreza            object\n",
       "Pobreza Extrema    object\n",
       "dtype: object"
      ]
     },
     "execution_count": 40,
     "metadata": {},
     "output_type": "execute_result"
    }
   ],
   "source": [
    "pobreza.dtypes"
   ]
  },
  {
   "cell_type": "code",
   "execution_count": 41,
   "id": "4cfabb8b-8bf4-42f6-8210-ccff02035913",
   "metadata": {},
   "outputs": [
    {
     "name": "stdout",
     "output_type": "stream",
     "text": [
      "    DEPARTAMENTO Pobreza Pobreza Extrema\n",
      "0            Ica   5.1 %             0 %\n",
      "2       Moquegua  12.9 %           3.3 %\n",
      "3       Arequipa  13.6 %           2.3 %\n",
      "4  Madre de Dios  13.7 %           1.6 %\n",
      "5     Lambayeque  14.1 %           1.0 %\n"
     ]
    }
   ],
   "source": [
    "pobreza = pobreza[~pobreza['DEPARTAMENTO'].str.contains('Pobreza', na=False)]\n",
    "print(pobreza.head())"
   ]
  },
  {
   "cell_type": "code",
   "execution_count": 42,
   "id": "dcf61d2e-375f-4ae6-a114-e53d2305f49f",
   "metadata": {},
   "outputs": [
    {
     "name": "stdout",
     "output_type": "stream",
     "text": [
      "    DEPARTAMENTO  Pobreza  Pobreza Extrema\n",
      "0            Ica      5.1              0.0\n",
      "2       Moquegua     12.9              3.3\n",
      "3       Arequipa     13.6              2.3\n",
      "4  Madre de Dios     13.7              1.6\n",
      "5     Lambayeque     14.1              1.0\n"
     ]
    }
   ],
   "source": [
    "#modificamos la columna pobreza y pobreza extrema\n",
    "\n",
    "# Eliminar el signo '%' y convertir a float\n",
    "pobreza['Pobreza'] = (\n",
    "    pobreza['Pobreza']\n",
    "    .str.replace('%', '', regex=False)\n",
    "    .str.strip()\n",
    "    .astype(float)\n",
    ")\n",
    "\n",
    "pobreza['Pobreza Extrema'] = (\n",
    "    pobreza['Pobreza Extrema']\n",
    "    .str.replace('%', '', regex=False)\n",
    "    .str.strip()\n",
    "    .astype(float)\n",
    "    \n",
    ")\n",
    "\n",
    "print(pobreza.head())"
   ]
  },
  {
   "cell_type": "code",
   "execution_count": 43,
   "id": "d39d5864-cb99-4f63-a48d-6904fe32cd4b",
   "metadata": {},
   "outputs": [
    {
     "data": {
      "text/plain": [
       "DEPARTAMENTO        object\n",
       "Pobreza            float64\n",
       "Pobreza Extrema    float64\n",
       "dtype: object"
      ]
     },
     "execution_count": 43,
     "metadata": {},
     "output_type": "execute_result"
    }
   ],
   "source": [
    "pobreza.dtypes"
   ]
  },
  {
   "cell_type": "code",
   "execution_count": 44,
   "id": "7c048c5b-ee4e-456a-a34c-f27e30bcde6c",
   "metadata": {},
   "outputs": [
    {
     "name": "stdout",
     "output_type": "stream",
     "text": [
      "['ICA' 'MOQUEGUA' 'AREQUIPA' 'MADRE DE DIOS' 'LAMBAYEQUE' 'ANCASH' 'CUZCO'\n",
      " 'JUNIN' 'UCAYALI' 'TACNA' 'TUMBES' 'APURIMAC' 'SAN MARTIN' 'PIURA'\n",
      " 'AMAZONAS' 'LIMA Y CALLAO' 'LA LIBERTAD' 'HUANCAVELICA' 'LORETO' 'PASCO'\n",
      " 'AYACUCHO' 'PUNO' 'HUANUCO' 'CAJAMARCA' 'PERU']\n"
     ]
    }
   ],
   "source": [
    "import unidecode  #quitar tildes\n",
    "\n",
    "pobreza['DEPARTAMENTO'] = pobreza['DEPARTAMENTO'].str.upper()\n",
    "\n",
    "# eliminamos tildes\n",
    "pobreza['DEPARTAMENTO'] = pobreza['DEPARTAMENTO'].apply(unidecode.unidecode)\n",
    "\n",
    "print(pobreza['DEPARTAMENTO'].unique())"
   ]
  },
  {
   "cell_type": "code",
   "execution_count": 45,
   "id": "b4218493-252f-49fc-ae3d-cbb3d5cc306d",
   "metadata": {},
   "outputs": [
    {
     "name": "stdout",
     "output_type": "stream",
     "text": [
      "['ICA' 'MOQUEGUA' 'AREQUIPA' 'MADRE DE DIOS' 'LAMBAYEQUE' 'ANCASH' 'CUSCO'\n",
      " 'JUNIN' 'UCAYALI' 'TACNA' 'TUMBES' 'APURIMAC' 'SAN MARTIN' 'PIURA'\n",
      " 'AMAZONAS' 'LIMA-CALLAO' 'LA LIBERTAD' 'HUANCAVELICA' 'LORETO' 'PASCO'\n",
      " 'AYACUCHO' 'PUNO' 'HUANUCO' 'CAJAMARCA' 'PERU']\n"
     ]
    }
   ],
   "source": [
    "pobreza['DEPARTAMENTO'] = pobreza['DEPARTAMENTO'].replace({\n",
    "    'CUZCO': 'CUSCO',\n",
    "    'LIMA Y CALLAO': 'LIMA-CALLAO'\n",
    "})\n",
    "\n",
    "print(pobreza['DEPARTAMENTO'].unique())"
   ]
  },
  {
   "cell_type": "code",
   "execution_count": 46,
   "id": "ece952eb-7b09-46d7-94af-991198cfaaf5",
   "metadata": {},
   "outputs": [
    {
     "name": "stdout",
     "output_type": "stream",
     "text": [
      "Departamentos en pobreza pero NO en votos: {'PERU'}\n",
      "Departamentos en votos pero NO en pobreza: {'VOTO EXTRANJERO'}\n"
     ]
    }
   ],
   "source": [
    "# Nombres únicos de departamentos en pobreza\n",
    "dept_pobreza = set(pobreza['DEPARTAMENTO'].unique())\n",
    "\n",
    "# Nombres únicos de departamentos en votos\n",
    "dept_votos = set(votos[\"DEPARTAMENTO\"].unique())\n",
    "\n",
    "# Departamentos que están en pobreza pero no en votos\n",
    "solo_en_pobreza = dept_pobreza - dept_votos\n",
    "\n",
    "# Departamentos que están en votos pero no en pobreza\n",
    "solo_en_votos = dept_votos - dept_pobreza\n",
    "\n",
    "print(\"Departamentos en pobreza pero NO en votos:\", solo_en_pobreza)\n",
    "print(\"Departamentos en votos pero NO en pobreza:\", solo_en_votos)\n"
   ]
  },
  {
   "cell_type": "markdown",
   "id": "90fe5362-75e0-44a2-b56c-6e1ff7965ac9",
   "metadata": {},
   "source": [
    "### Merge"
   ]
  },
  {
   "cell_type": "code",
   "execution_count": 48,
   "id": "aeb7e940-4862-41e6-aae7-039721ac8384",
   "metadata": {},
   "outputs": [],
   "source": [
    "data_final2 = pd.merge(votos, pobreza, on=['DEPARTAMENTO'], how='inner')"
   ]
  },
  {
   "cell_type": "code",
   "execution_count": 49,
   "id": "ded25399-f09f-48da-b805-99ee5684213a",
   "metadata": {},
   "outputs": [
    {
     "data": {
      "text/html": [
       "<div>\n",
       "<style scoped>\n",
       "    .dataframe tbody tr th:only-of-type {\n",
       "        vertical-align: middle;\n",
       "    }\n",
       "\n",
       "    .dataframe tbody tr th {\n",
       "        vertical-align: top;\n",
       "    }\n",
       "\n",
       "    .dataframe thead th {\n",
       "        text-align: right;\n",
       "    }\n",
       "</style>\n",
       "<table border=\"1\" class=\"dataframe\">\n",
       "  <thead>\n",
       "    <tr style=\"text-align: right;\">\n",
       "      <th></th>\n",
       "      <th>DEPARTAMENTO</th>\n",
       "      <th>Castillo</th>\n",
       "      <th>prop_vot_cast</th>\n",
       "      <th>Pobreza</th>\n",
       "      <th>Pobreza Extrema</th>\n",
       "    </tr>\n",
       "  </thead>\n",
       "  <tbody>\n",
       "    <tr>\n",
       "      <th>0</th>\n",
       "      <td>AMAZONAS</td>\n",
       "      <td>34464.0</td>\n",
       "      <td>0.112559</td>\n",
       "      <td>25.6</td>\n",
       "      <td>7.1</td>\n",
       "    </tr>\n",
       "    <tr>\n",
       "      <th>1</th>\n",
       "      <td>ANCASH</td>\n",
       "      <td>110620.0</td>\n",
       "      <td>0.124816</td>\n",
       "      <td>21.4</td>\n",
       "      <td>4.0</td>\n",
       "    </tr>\n",
       "    <tr>\n",
       "      <th>2</th>\n",
       "      <td>APURIMAC</td>\n",
       "      <td>88812.0</td>\n",
       "      <td>0.281051</td>\n",
       "      <td>24.9</td>\n",
       "      <td>3.3</td>\n",
       "    </tr>\n",
       "    <tr>\n",
       "      <th>3</th>\n",
       "      <td>AREQUIPA</td>\n",
       "      <td>256224.0</td>\n",
       "      <td>0.223724</td>\n",
       "      <td>13.6</td>\n",
       "      <td>2.3</td>\n",
       "    </tr>\n",
       "    <tr>\n",
       "      <th>4</th>\n",
       "      <td>AYACUCHO</td>\n",
       "      <td>130224.0</td>\n",
       "      <td>0.275151</td>\n",
       "      <td>40.7</td>\n",
       "      <td>10.7</td>\n",
       "    </tr>\n",
       "  </tbody>\n",
       "</table>\n",
       "</div>"
      ],
      "text/plain": [
       "  DEPARTAMENTO  Castillo  prop_vot_cast  Pobreza  Pobreza Extrema\n",
       "0     AMAZONAS   34464.0       0.112559     25.6              7.1\n",
       "1       ANCASH  110620.0       0.124816     21.4              4.0\n",
       "2     APURIMAC   88812.0       0.281051     24.9              3.3\n",
       "3     AREQUIPA  256224.0       0.223724     13.6              2.3\n",
       "4     AYACUCHO  130224.0       0.275151     40.7             10.7"
      ]
     },
     "execution_count": 49,
     "metadata": {},
     "output_type": "execute_result"
    }
   ],
   "source": [
    "data_final2.head()"
   ]
  },
  {
   "cell_type": "code",
   "execution_count": 50,
   "id": "1ea13438-5b04-4e0e-be3f-90e3e2e2ab18",
   "metadata": {},
   "outputs": [
    {
     "data": {
      "text/plain": [
       "(24, 5)"
      ]
     },
     "execution_count": 50,
     "metadata": {},
     "output_type": "execute_result"
    }
   ],
   "source": [
    "data_final2.shape"
   ]
  },
  {
   "cell_type": "code",
   "execution_count": 51,
   "id": "7f4675ad-95f5-4495-b0c8-d4f49afe96c7",
   "metadata": {},
   "outputs": [],
   "source": [
    "data_final2.to_csv('data_part2.csv', index=False)"
   ]
  }
 ],
 "metadata": {
  "kernelspec": {
   "display_name": "Python 3 (ipykernel)",
   "language": "python",
   "name": "python3"
  },
  "language_info": {
   "codemirror_mode": {
    "name": "ipython",
    "version": 3
   },
   "file_extension": ".py",
   "mimetype": "text/x-python",
   "name": "python",
   "nbconvert_exporter": "python",
   "pygments_lexer": "ipython3",
   "version": "3.12.3"
  }
 },
 "nbformat": 4,
 "nbformat_minor": 5
}
